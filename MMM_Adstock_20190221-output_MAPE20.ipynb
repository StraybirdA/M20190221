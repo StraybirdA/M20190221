{
 "cells": [
  {
   "cell_type": "code",
   "execution_count": 1,
   "metadata": {},
   "outputs": [],
   "source": [
    "import pandas as pd\n",
    "import numpy as np\n",
    "import matplotlib as plt\n",
    "import statsmodels.formula.api as smf"
   ]
  },
  {
   "cell_type": "markdown",
   "metadata": {},
   "source": [
    "## Import Data"
   ]
  },
  {
   "cell_type": "code",
   "execution_count": 2,
   "metadata": {},
   "outputs": [],
   "source": [
    "df = pd.read_csv('data/sample_df.csv')\n",
    "df.set_index('Month',inplace=True, drop=True)"
   ]
  },
  {
   "cell_type": "code",
   "execution_count": 3,
   "metadata": {},
   "outputs": [],
   "source": [
    "# df['TV'].index"
   ]
  },
  {
   "cell_type": "code",
   "execution_count": 4,
   "metadata": {},
   "outputs": [
    {
     "data": {
      "text/html": [
       "<div>\n",
       "<style scoped>\n",
       "    .dataframe tbody tr th:only-of-type {\n",
       "        vertical-align: middle;\n",
       "    }\n",
       "\n",
       "    .dataframe tbody tr th {\n",
       "        vertical-align: top;\n",
       "    }\n",
       "\n",
       "    .dataframe thead th {\n",
       "        text-align: right;\n",
       "    }\n",
       "</style>\n",
       "<table border=\"1\" class=\"dataframe\">\n",
       "  <thead>\n",
       "    <tr style=\"text-align: right;\">\n",
       "      <th></th>\n",
       "      <th>Volume</th>\n",
       "      <th>TV</th>\n",
       "      <th>Digital</th>\n",
       "      <th>Other</th>\n",
       "      <th>Coverage</th>\n",
       "      <th>RetailPrice</th>\n",
       "      <th>Temp</th>\n",
       "    </tr>\n",
       "    <tr>\n",
       "      <th>Month</th>\n",
       "      <th></th>\n",
       "      <th></th>\n",
       "      <th></th>\n",
       "      <th></th>\n",
       "      <th></th>\n",
       "      <th></th>\n",
       "      <th></th>\n",
       "    </tr>\n",
       "  </thead>\n",
       "  <tbody>\n",
       "    <tr>\n",
       "      <th>2016/01/01</th>\n",
       "      <td>4.679758e+06</td>\n",
       "      <td>24727</td>\n",
       "      <td>4867</td>\n",
       "      <td>0</td>\n",
       "      <td>0.221294</td>\n",
       "      <td>61.822051</td>\n",
       "      <td>6.222581</td>\n",
       "    </tr>\n",
       "    <tr>\n",
       "      <th>2016/02/01</th>\n",
       "      <td>5.612667e+06</td>\n",
       "      <td>102245</td>\n",
       "      <td>19383</td>\n",
       "      <td>11877</td>\n",
       "      <td>0.219405</td>\n",
       "      <td>62.132821</td>\n",
       "      <td>7.047126</td>\n",
       "    </tr>\n",
       "    <tr>\n",
       "      <th>2016/03/01</th>\n",
       "      <td>7.081166e+06</td>\n",
       "      <td>111393</td>\n",
       "      <td>16725</td>\n",
       "      <td>11987</td>\n",
       "      <td>0.219454</td>\n",
       "      <td>61.820769</td>\n",
       "      <td>10.459140</td>\n",
       "    </tr>\n",
       "    <tr>\n",
       "      <th>2016/04/01</th>\n",
       "      <td>8.366490e+06</td>\n",
       "      <td>64051</td>\n",
       "      <td>18815</td>\n",
       "      <td>0</td>\n",
       "      <td>0.217712</td>\n",
       "      <td>61.524615</td>\n",
       "      <td>15.961111</td>\n",
       "    </tr>\n",
       "    <tr>\n",
       "      <th>2016/05/01</th>\n",
       "      <td>1.239568e+07</td>\n",
       "      <td>134791</td>\n",
       "      <td>26876</td>\n",
       "      <td>0</td>\n",
       "      <td>0.213228</td>\n",
       "      <td>61.276410</td>\n",
       "      <td>20.646237</td>\n",
       "    </tr>\n",
       "  </tbody>\n",
       "</table>\n",
       "</div>"
      ],
      "text/plain": [
       "                  Volume      TV  Digital  Other  Coverage  RetailPrice  \\\n",
       "Month                                                                     \n",
       "2016/01/01  4.679758e+06   24727     4867      0  0.221294    61.822051   \n",
       "2016/02/01  5.612667e+06  102245    19383  11877  0.219405    62.132821   \n",
       "2016/03/01  7.081166e+06  111393    16725  11987  0.219454    61.820769   \n",
       "2016/04/01  8.366490e+06   64051    18815      0  0.217712    61.524615   \n",
       "2016/05/01  1.239568e+07  134791    26876      0  0.213228    61.276410   \n",
       "\n",
       "                 Temp  \n",
       "Month                  \n",
       "2016/01/01   6.222581  \n",
       "2016/02/01   7.047126  \n",
       "2016/03/01  10.459140  \n",
       "2016/04/01  15.961111  \n",
       "2016/05/01  20.646237  "
      ]
     },
     "execution_count": 4,
     "metadata": {},
     "output_type": "execute_result"
    }
   ],
   "source": [
    "df.head()"
   ]
  },
  {
   "cell_type": "markdown",
   "metadata": {},
   "source": [
    "## Descriptive Analysis"
   ]
  },
  {
   "cell_type": "markdown",
   "metadata": {},
   "source": [
    "## Adstock Transformation"
   ]
  },
  {
   "cell_type": "markdown",
   "metadata": {},
   "source": [
    "### Apply Adstock"
   ]
  },
  {
   "cell_type": "code",
   "execution_count": 5,
   "metadata": {},
   "outputs": [],
   "source": [
    "#lag and decay and power\n",
    "def to_adstock(media,lag,decay,alpha):\n",
    "    \n",
    "    n = len(media)\n",
    "    with_AS = np.zeros(n)\n",
    "    \n",
    "    for i in range(int(lag),n):\n",
    "        with_AS[i] = media[i-lag]**(alpha/100) + (decay/100)*with_AS[i-1]\n",
    "        \n",
    "    return (with_AS)"
   ]
  },
  {
   "cell_type": "markdown",
   "metadata": {},
   "source": [
    "## Modelling"
   ]
  },
  {
   "cell_type": "markdown",
   "metadata": {},
   "source": [
    "### Model fitting"
   ]
  },
  {
   "cell_type": "markdown",
   "metadata": {},
   "source": [
    "#####   Left: name the pd.Series with Column names following the rule\n",
    "1. TV_1L: TV_xL x as the number of Lags\n",
    "2. TV_AS60: AS means astock, this means taking decay of 60% from previous one\n",
    "3. TV_Alpha90: means taking power curve transformation and, x**aplha, alpha = 0.9"
   ]
  },
  {
   "cell_type": "code",
   "execution_count": 6,
   "metadata": {},
   "outputs": [],
   "source": [
    "def fit_model1(data,a,b,c,d,e,f,g,h,i):\n",
    "    \n",
    "    sales=data['Volume']\n",
    "    \n",
    "    tv_ads=to_adstock(data['TV'],a,b,c)\n",
    "    digital_ads=to_adstock(data['Digital'],d,e,f)\n",
    "    other_ads=to_adstock(data['Other'],g,h,i)\n",
    "\n",
    "    temp=data['Temp']\n",
    "    coverage=data['Coverage']\n",
    "    retailprice=data['RetailPrice']\n",
    "    \n",
    "    x_ad=pd.concat([pd.Series(tv_ads,index=data['TV'].index,name= 'TV_{a}L_{b}AS_{c}Alpha'.format(a=a,b=b,c=c)),\n",
    "                    pd.Series(digital_ads,index=data['TV'].index,name='Digital_{d}L_{e}AS_{f}Alpha'.format(d=d,e=e,f=f)),\n",
    "                    pd.Series(other_ads,index=data['TV'].index,name='Other_{g}L_{h}AS_{i}Alpha'.format(g=g,h=h,i=i)),\n",
    "                    temp,coverage,retailprice,sales], axis=1, join_axes=[data['TV'].index])\n",
    "\n",
    "    selected=['TV_{a}L_{b}AS_{c}Alpha'.format(a=a,b=b,c=c),\n",
    "              'Digital_{d}L_{e}AS_{f}Alpha'.format(d=d,e=e,f=f),\n",
    "              'Other_{g}L_{h}AS_{i}Alpha'.format(g=g,h=h,i=i)]\n",
    "    \n",
    "    model=forward_selected(x_ad, 'Volume', selected)\n",
    "\n",
    "\n",
    "    return model"
   ]
  },
  {
   "cell_type": "code",
   "execution_count": 7,
   "metadata": {},
   "outputs": [],
   "source": [
    "def forward_selected(data, response, selected):\n",
    "    remaining = set(data.columns)\n",
    "    remaining.remove(response)\n",
    "    for p in selected:\n",
    "        remaining.remove(p)\n",
    "    current_score, best_new_score = 0.0, 0.0\n",
    "    while remaining and current_score == best_new_score:\n",
    "        scores_with_candidates = []\n",
    "        for candidate in remaining:\n",
    "            formula = \"{} ~ {} + 1\".format(response,\n",
    "                                           ' + '.join(selected + [candidate]))\n",
    "            score = smf.ols(formula, data).fit().rsquared_adj\n",
    "            scores_with_candidates.append((score, candidate))\n",
    "        scores_with_candidates.sort()\n",
    "        best_new_score, best_candidate = scores_with_candidates.pop()\n",
    "        if current_score < best_new_score:\n",
    "            remaining.remove(best_candidate)\n",
    "            selected.append(best_candidate)\n",
    "            current_score = best_new_score\n",
    "    formula = \"{} ~ {} + 1\".format(response,\n",
    "                                   ' + '.join(selected))\n",
    "    model = smf.ols(formula, data).fit()\n",
    "    return model"
   ]
  },
  {
   "cell_type": "code",
   "execution_count": 8,
   "metadata": {},
   "outputs": [],
   "source": [
    "def model(data):\n",
    "    # Run OLS regression, print summary and return results\n",
    "    \n",
    "    lag_in =1\n",
    "    decay_in= -10\n",
    "    power_in = - 10\n",
    "    \n",
    "    tv_lag = list(np.arange(1,4, lag_in))\n",
    "    tv_decay = list(np.arange(90, 80, decay_in))\n",
    "    tv_power = list (np.arange(90, 80, power_in))\n",
    "    digital_lag = list(np.arange(1,4, lag_in))\n",
    "    digital_decay = list(np.arange(90, 80, decay_in))\n",
    "    digital_power = list (np.arange(90, 80,power_in))\n",
    "    other_lag = list(np.arange(1,4, lag_in))\n",
    "    other_decay = list(np.arange(90, 80, decay_in))\n",
    "    other_power = list (np.arange(90, 80,power_in))\n",
    "    final=[]\n",
    "    for a in tv_lag:\n",
    "        for b in tv_decay:\n",
    "            for c in tv_power:\n",
    "                for d in digital_lag:\n",
    "                    for e in digital_decay:\n",
    "                        for f in digital_power:\n",
    "                            for g in other_lag:\n",
    "                                for h in other_decay:\n",
    "                                    for i in other_power:\n",
    "                                        train_model=fit_model1(data,a,b,c,d,e,f,g,h,i)\n",
    "                                        final.append(train_model)\n",
    "    result=best_model(final)\n",
    "    return result"
   ]
  },
  {
   "cell_type": "markdown",
   "metadata": {},
   "source": [
    "## 我的思路\n",
    "1．model　method里面call fit_model1把所有的模型组全部放到final这个list里面\n",
    "2. 每个变量参数组合算一个adjusted R2,把最小的保留"
   ]
  },
  {
   "cell_type": "code",
   "execution_count": 9,
   "metadata": {},
   "outputs": [],
   "source": [
    "def best_model(final):\n",
    "    best= final[0]\n",
    "    current_score = best.rsquared_adj\n",
    "    for i in final:\n",
    "        score=i.rsquared_adj\n",
    "        if score > current_score:\n",
    "            best=i\n",
    "    return best"
   ]
  },
  {
   "cell_type": "code",
   "execution_count": 13,
   "metadata": {},
   "outputs": [],
   "source": [
    "x = model(df)"
   ]
  },
  {
   "cell_type": "code",
   "execution_count": 14,
   "metadata": {},
   "outputs": [
    {
     "name": "stdout",
     "output_type": "stream",
     "text": [
      "Volume ~ TV_3L_90AS_90Alpha + Digital_3L_90AS_90Alpha + Other_3L_90AS_90Alpha + Temp + Coverage + 1\n"
     ]
    }
   ],
   "source": [
    "print(x.model.formula)"
   ]
  },
  {
   "cell_type": "code",
   "execution_count": 15,
   "metadata": {},
   "outputs": [
    {
     "data": {
      "text/html": [
       "<table class=\"simpletable\">\n",
       "<caption>OLS Regression Results</caption>\n",
       "<tr>\n",
       "  <th>Dep. Variable:</th>         <td>Volume</td>      <th>  R-squared:         </th> <td>   0.838</td>\n",
       "</tr>\n",
       "<tr>\n",
       "  <th>Model:</th>                   <td>OLS</td>       <th>  Adj. R-squared:    </th> <td>   0.803</td>\n",
       "</tr>\n",
       "<tr>\n",
       "  <th>Method:</th>             <td>Least Squares</td>  <th>  F-statistic:       </th> <td>   23.78</td>\n",
       "</tr>\n",
       "<tr>\n",
       "  <th>Date:</th>             <td>Thu, 21 Feb 2019</td> <th>  Prob (F-statistic):</th> <td>2.19e-08</td>\n",
       "</tr>\n",
       "<tr>\n",
       "  <th>Time:</th>                 <td>21:00:40</td>     <th>  Log-Likelihood:    </th> <td> -464.04</td>\n",
       "</tr>\n",
       "<tr>\n",
       "  <th>No. Observations:</th>      <td>    29</td>      <th>  AIC:               </th> <td>   940.1</td>\n",
       "</tr>\n",
       "<tr>\n",
       "  <th>Df Residuals:</th>          <td>    23</td>      <th>  BIC:               </th> <td>   948.3</td>\n",
       "</tr>\n",
       "<tr>\n",
       "  <th>Df Model:</th>              <td>     5</td>      <th>                     </th>     <td> </td>   \n",
       "</tr>\n",
       "<tr>\n",
       "  <th>Covariance Type:</th>      <td>nonrobust</td>    <th>                     </th>     <td> </td>   \n",
       "</tr>\n",
       "</table>\n",
       "<table class=\"simpletable\">\n",
       "<tr>\n",
       "             <td></td>                <th>coef</th>     <th>std err</th>      <th>t</th>      <th>P>|t|</th>  <th>[0.025</th>    <th>0.975]</th>  \n",
       "</tr>\n",
       "<tr>\n",
       "  <th>Intercept</th>               <td>-1.431e+07</td> <td> 7.62e+06</td> <td>   -1.878</td> <td> 0.073</td> <td>-3.01e+07</td> <td> 1.45e+06</td>\n",
       "</tr>\n",
       "<tr>\n",
       "  <th>TV_3L_90AS_90Alpha</th>      <td>  -38.3567</td> <td>   17.118</td> <td>   -2.241</td> <td> 0.035</td> <td>  -73.767</td> <td>   -2.946</td>\n",
       "</tr>\n",
       "<tr>\n",
       "  <th>Digital_3L_90AS_90Alpha</th> <td>   91.0699</td> <td>   52.387</td> <td>    1.738</td> <td> 0.096</td> <td>  -17.301</td> <td>  199.441</td>\n",
       "</tr>\n",
       "<tr>\n",
       "  <th>Other_3L_90AS_90Alpha</th>   <td>   95.5784</td> <td>  126.822</td> <td>    0.754</td> <td> 0.459</td> <td> -166.772</td> <td>  357.929</td>\n",
       "</tr>\n",
       "<tr>\n",
       "  <th>Temp</th>                    <td> 4.228e+05</td> <td> 9.82e+04</td> <td>    4.304</td> <td> 0.000</td> <td>  2.2e+05</td> <td> 6.26e+05</td>\n",
       "</tr>\n",
       "<tr>\n",
       "  <th>Coverage</th>                <td> 7.771e+07</td> <td>  3.7e+07</td> <td>    2.099</td> <td> 0.047</td> <td> 1.11e+06</td> <td> 1.54e+08</td>\n",
       "</tr>\n",
       "</table>\n",
       "<table class=\"simpletable\">\n",
       "<tr>\n",
       "  <th>Omnibus:</th>       <td> 0.052</td> <th>  Durbin-Watson:     </th> <td>   1.536</td>\n",
       "</tr>\n",
       "<tr>\n",
       "  <th>Prob(Omnibus):</th> <td> 0.974</td> <th>  Jarque-Bera (JB):  </th> <td>   0.256</td>\n",
       "</tr>\n",
       "<tr>\n",
       "  <th>Skew:</th>          <td> 0.049</td> <th>  Prob(JB):          </th> <td>   0.880</td>\n",
       "</tr>\n",
       "<tr>\n",
       "  <th>Kurtosis:</th>      <td> 2.551</td> <th>  Cond. No.          </th> <td>2.09e+07</td>\n",
       "</tr>\n",
       "</table><br/><br/>Warnings:<br/>[1] Standard Errors assume that the covariance matrix of the errors is correctly specified.<br/>[2] The condition number is large, 2.09e+07. This might indicate that there are<br/>strong multicollinearity or other numerical problems."
      ],
      "text/plain": [
       "<class 'statsmodels.iolib.summary.Summary'>\n",
       "\"\"\"\n",
       "                            OLS Regression Results                            \n",
       "==============================================================================\n",
       "Dep. Variable:                 Volume   R-squared:                       0.838\n",
       "Model:                            OLS   Adj. R-squared:                  0.803\n",
       "Method:                 Least Squares   F-statistic:                     23.78\n",
       "Date:                Thu, 21 Feb 2019   Prob (F-statistic):           2.19e-08\n",
       "Time:                        21:00:40   Log-Likelihood:                -464.04\n",
       "No. Observations:                  29   AIC:                             940.1\n",
       "Df Residuals:                      23   BIC:                             948.3\n",
       "Df Model:                           5                                         \n",
       "Covariance Type:            nonrobust                                         \n",
       "===========================================================================================\n",
       "                              coef    std err          t      P>|t|      [0.025      0.975]\n",
       "-------------------------------------------------------------------------------------------\n",
       "Intercept               -1.431e+07   7.62e+06     -1.878      0.073   -3.01e+07    1.45e+06\n",
       "TV_3L_90AS_90Alpha        -38.3567     17.118     -2.241      0.035     -73.767      -2.946\n",
       "Digital_3L_90AS_90Alpha    91.0699     52.387      1.738      0.096     -17.301     199.441\n",
       "Other_3L_90AS_90Alpha      95.5784    126.822      0.754      0.459    -166.772     357.929\n",
       "Temp                     4.228e+05   9.82e+04      4.304      0.000     2.2e+05    6.26e+05\n",
       "Coverage                 7.771e+07    3.7e+07      2.099      0.047    1.11e+06    1.54e+08\n",
       "==============================================================================\n",
       "Omnibus:                        0.052   Durbin-Watson:                   1.536\n",
       "Prob(Omnibus):                  0.974   Jarque-Bera (JB):                0.256\n",
       "Skew:                           0.049   Prob(JB):                        0.880\n",
       "Kurtosis:                       2.551   Cond. No.                     2.09e+07\n",
       "==============================================================================\n",
       "\n",
       "Warnings:\n",
       "[1] Standard Errors assume that the covariance matrix of the errors is correctly specified.\n",
       "[2] The condition number is large, 2.09e+07. This might indicate that there are\n",
       "strong multicollinearity or other numerical problems.\n",
       "\"\"\""
      ]
     },
     "execution_count": 15,
     "metadata": {},
     "output_type": "execute_result"
    }
   ],
   "source": [
    "x.summary()"
   ]
  },
  {
   "cell_type": "code",
   "execution_count": 16,
   "metadata": {},
   "outputs": [],
   "source": [
    "pred_x = x.predict()"
   ]
  },
  {
   "cell_type": "markdown",
   "metadata": {},
   "source": [
    "##### Check MAPE"
   ]
  },
  {
   "cell_type": "code",
   "execution_count": 17,
   "metadata": {},
   "outputs": [],
   "source": [
    "from sklearn.utils.validation import check_array"
   ]
  },
  {
   "cell_type": "code",
   "execution_count": 18,
   "metadata": {},
   "outputs": [],
   "source": [
    "def mean_absolute_percentage_error(y_true, y_pred): \n",
    "    MAPE = np.mean(np.abs((y_true - y_pred) / y_true)) * 100\n",
    "    return MAPE"
   ]
  },
  {
   "cell_type": "code",
   "execution_count": 19,
   "metadata": {},
   "outputs": [],
   "source": [
    "MAPE = mean_absolute_percentage_error(df['Volume'],pred_x)"
   ]
  },
  {
   "cell_type": "code",
   "execution_count": 20,
   "metadata": {},
   "outputs": [
    {
     "data": {
      "text/plain": [
       "20.199159466432068"
      ]
     },
     "execution_count": 20,
     "metadata": {},
     "output_type": "execute_result"
    }
   ],
   "source": [
    "MAPE"
   ]
  }
 ],
 "metadata": {
  "kernelspec": {
   "display_name": "Python 3",
   "language": "python",
   "name": "python3"
  },
  "language_info": {
   "codemirror_mode": {
    "name": "ipython",
    "version": 3
   },
   "file_extension": ".py",
   "mimetype": "text/x-python",
   "name": "python",
   "nbconvert_exporter": "python",
   "pygments_lexer": "ipython3",
   "version": "3.7.0"
  }
 },
 "nbformat": 4,
 "nbformat_minor": 2
}
