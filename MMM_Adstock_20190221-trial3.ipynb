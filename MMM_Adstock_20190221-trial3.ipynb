{
 "cells": [
  {
   "cell_type": "code",
   "execution_count": 15,
   "metadata": {},
   "outputs": [],
   "source": [
    "import pandas as pd\n",
    "import numpy as np\n",
    "import matplotlib as plt\n",
    "import statsmodels.formula.api as smf"
   ]
  },
  {
   "cell_type": "markdown",
   "metadata": {},
   "source": [
    "## Import Data"
   ]
  },
  {
   "cell_type": "code",
   "execution_count": 16,
   "metadata": {},
   "outputs": [],
   "source": [
    "df = pd.read_csv('data/sample_df.csv')\n",
    "df.set_index('Month',inplace=True, drop=True)"
   ]
  },
  {
   "cell_type": "code",
   "execution_count": 17,
   "metadata": {},
   "outputs": [],
   "source": [
    "# df['TV'].index"
   ]
  },
  {
   "cell_type": "code",
   "execution_count": 18,
   "metadata": {},
   "outputs": [
    {
     "data": {
      "text/html": [
       "<div>\n",
       "<style scoped>\n",
       "    .dataframe tbody tr th:only-of-type {\n",
       "        vertical-align: middle;\n",
       "    }\n",
       "\n",
       "    .dataframe tbody tr th {\n",
       "        vertical-align: top;\n",
       "    }\n",
       "\n",
       "    .dataframe thead th {\n",
       "        text-align: right;\n",
       "    }\n",
       "</style>\n",
       "<table border=\"1\" class=\"dataframe\">\n",
       "  <thead>\n",
       "    <tr style=\"text-align: right;\">\n",
       "      <th></th>\n",
       "      <th>Volume</th>\n",
       "      <th>TV</th>\n",
       "      <th>Digital</th>\n",
       "      <th>Other</th>\n",
       "      <th>Coverage</th>\n",
       "      <th>RetailPrice</th>\n",
       "      <th>Temp</th>\n",
       "    </tr>\n",
       "    <tr>\n",
       "      <th>Month</th>\n",
       "      <th></th>\n",
       "      <th></th>\n",
       "      <th></th>\n",
       "      <th></th>\n",
       "      <th></th>\n",
       "      <th></th>\n",
       "      <th></th>\n",
       "    </tr>\n",
       "  </thead>\n",
       "  <tbody>\n",
       "    <tr>\n",
       "      <th>2016/01/01</th>\n",
       "      <td>4.679758e+06</td>\n",
       "      <td>24727</td>\n",
       "      <td>4867</td>\n",
       "      <td>0</td>\n",
       "      <td>0.221294</td>\n",
       "      <td>61.822051</td>\n",
       "      <td>6.222581</td>\n",
       "    </tr>\n",
       "    <tr>\n",
       "      <th>2016/02/01</th>\n",
       "      <td>5.612667e+06</td>\n",
       "      <td>102245</td>\n",
       "      <td>19383</td>\n",
       "      <td>11877</td>\n",
       "      <td>0.219405</td>\n",
       "      <td>62.132821</td>\n",
       "      <td>7.047126</td>\n",
       "    </tr>\n",
       "    <tr>\n",
       "      <th>2016/03/01</th>\n",
       "      <td>7.081166e+06</td>\n",
       "      <td>111393</td>\n",
       "      <td>16725</td>\n",
       "      <td>11987</td>\n",
       "      <td>0.219454</td>\n",
       "      <td>61.820769</td>\n",
       "      <td>10.459140</td>\n",
       "    </tr>\n",
       "    <tr>\n",
       "      <th>2016/04/01</th>\n",
       "      <td>8.366490e+06</td>\n",
       "      <td>64051</td>\n",
       "      <td>18815</td>\n",
       "      <td>0</td>\n",
       "      <td>0.217712</td>\n",
       "      <td>61.524615</td>\n",
       "      <td>15.961111</td>\n",
       "    </tr>\n",
       "    <tr>\n",
       "      <th>2016/05/01</th>\n",
       "      <td>1.239568e+07</td>\n",
       "      <td>134791</td>\n",
       "      <td>26876</td>\n",
       "      <td>0</td>\n",
       "      <td>0.213228</td>\n",
       "      <td>61.276410</td>\n",
       "      <td>20.646237</td>\n",
       "    </tr>\n",
       "  </tbody>\n",
       "</table>\n",
       "</div>"
      ],
      "text/plain": [
       "                  Volume      TV  Digital  Other  Coverage  RetailPrice  \\\n",
       "Month                                                                     \n",
       "2016/01/01  4.679758e+06   24727     4867      0  0.221294    61.822051   \n",
       "2016/02/01  5.612667e+06  102245    19383  11877  0.219405    62.132821   \n",
       "2016/03/01  7.081166e+06  111393    16725  11987  0.219454    61.820769   \n",
       "2016/04/01  8.366490e+06   64051    18815      0  0.217712    61.524615   \n",
       "2016/05/01  1.239568e+07  134791    26876      0  0.213228    61.276410   \n",
       "\n",
       "                 Temp  \n",
       "Month                  \n",
       "2016/01/01   6.222581  \n",
       "2016/02/01   7.047126  \n",
       "2016/03/01  10.459140  \n",
       "2016/04/01  15.961111  \n",
       "2016/05/01  20.646237  "
      ]
     },
     "execution_count": 18,
     "metadata": {},
     "output_type": "execute_result"
    }
   ],
   "source": [
    "df.head()"
   ]
  },
  {
   "cell_type": "markdown",
   "metadata": {},
   "source": [
    "## Descriptive Analysis"
   ]
  },
  {
   "cell_type": "markdown",
   "metadata": {},
   "source": [
    "## Adstock Transformation"
   ]
  },
  {
   "cell_type": "markdown",
   "metadata": {},
   "source": [
    "### Apply Adstock"
   ]
  },
  {
   "cell_type": "code",
   "execution_count": 19,
   "metadata": {},
   "outputs": [],
   "source": [
    "#lag and decay and power\n",
    "def to_adstock(media,lag,decay,alpha):\n",
    "    \n",
    "    n = len(media)\n",
    "    with_AS = np.zeros(n)\n",
    "    \n",
    "    for i in range(int(lag),n):\n",
    "        with_AS[i] = media[i-lag]**(alpha/100) + (decay/100)*with_AS[i-1]\n",
    "        \n",
    "    return (with_AS)"
   ]
  },
  {
   "cell_type": "markdown",
   "metadata": {},
   "source": [
    "## Modelling"
   ]
  },
  {
   "cell_type": "markdown",
   "metadata": {},
   "source": [
    "### Model fitting"
   ]
  },
  {
   "cell_type": "markdown",
   "metadata": {},
   "source": [
    "#####   Left: name the pd.Series with Column names following the rule\n",
    "1. TV_1L: TV_xL x as the number of Lags\n",
    "2. TV_AS60: AS means astock, this means taking decay of 60% from previous one\n",
    "3. TV_Alpha90: means taking power curve transformation and, x**aplha, alpha = 0.9"
   ]
  },
  {
   "cell_type": "code",
   "execution_count": 20,
   "metadata": {},
   "outputs": [],
   "source": [
    "def fit_model1(data,a,b,c,d,e,f,g,h,i):\n",
    "    \n",
    "    sales=data['Volume']\n",
    "    \n",
    "    tv_ads=to_adstock(data['TV'],a,b,c)\n",
    "    digital_ads=to_adstock(data['Digital'],d,e,f)\n",
    "    other_ads=to_adstock(data['Other'],g,h,i)\n",
    "\n",
    "    temp=data['Temp']\n",
    "    coverage=data['Coverage']\n",
    "    retailprice=data['RetailPrice']\n",
    "    \n",
    "    x_ad=pd.concat([pd.Series(tv_ads,index=data['TV'].index,name= 'TV_{a}L_{b}AS_{c}Alpha'.format(a=a,b=b,c=c)),\n",
    "                    pd.Series(digital_ads,index=data['TV'].index,name='Digital_{d}L_{e}AS_{f}Alpha'.format(d=d,e=e,f=f)),\n",
    "                    pd.Series(other_ads,index=data['TV'].index,name='Other_{g}L_{h}AS_{i}Alpha'.format(g=g,h=h,i=i)),\n",
    "                    temp,coverage,retailprice,sales], axis=1, join_axes=[data['TV'].index])\n",
    "\n",
    "    selected=['TV_{a}L_{b}AS_{c}Alpha'.format(a=a,b=b,c=c),\n",
    "              'Digital_{d}L_{e}AS_{f}Alpha'.format(d=d,e=e,f=f),\n",
    "              'Other_{g}L_{h}AS_{i}Alpha'.format(g=g,h=h,i=i)]\n",
    "    \n",
    "    model=forward_selected(x_ad, 'Volume', selected)\n",
    "\n",
    "\n",
    "    return x_ad"
   ]
  },
  {
   "cell_type": "code",
   "execution_count": 22,
   "metadata": {},
   "outputs": [],
   "source": [
    "def forward_selected(data, response, selected):\n",
    "    remaining = set(data.columns)\n",
    "    remaining.remove(response)\n",
    "    for p in selected:\n",
    "        remaining.remove(p)\n",
    "    current_score, best_new_score = 0.0, 0.0\n",
    "    while remaining and current_score == best_new_score:\n",
    "        scores_with_candidates = []\n",
    "        for candidate in remaining:\n",
    "            formula = \"{} ~ {} + 1\".format(response,\n",
    "                                           ' + '.join(selected + [candidate]))\n",
    "            score = smf.ols(formula, data).fit().rsquared_adj\n",
    "            scores_with_candidates.append((score, candidate))\n",
    "        scores_with_candidates.sort()\n",
    "        best_new_score, best_candidate = scores_with_candidates.pop()\n",
    "        if current_score < best_new_score:\n",
    "            remaining.remove(best_candidate)\n",
    "            selected.append(best_candidate)\n",
    "            current_score = best_new_score\n",
    "    formula = \"{} ~ {} + 1\".format(response,\n",
    "                                   ' + '.join(selected))\n",
    "    model = smf.ols(formula, data).fit()\n",
    "    return model"
   ]
  },
  {
   "cell_type": "code",
   "execution_count": 23,
   "metadata": {},
   "outputs": [],
   "source": [
    "def model(data):\n",
    "    # Run OLS regression, print summary and return results\n",
    "    \n",
    "    lag_in =1\n",
    "    decay_in= -10\n",
    "    power_in = - 10\n",
    "    \n",
    "    tv_lag = list(np.arange(1,4, lag_in))\n",
    "    tv_decay = list(np.arange(90, 80, decay_in))\n",
    "    tv_power = list (np.arange(90, 80, power_in))\n",
    "    digital_lag = list(np.arange(1,4, lag_in))\n",
    "    digital_decay = list(np.arange(90, 80, decay_in))\n",
    "    digital_power = list (np.arange(90, 80,power_in))\n",
    "    other_lag = list(np.arange(1,4, lag_in))\n",
    "    other_decay = list(np.arange(90, 80, decay_in))\n",
    "    other_power = list (np.arange(90, 80,power_in))\n",
    "    final=[]\n",
    "    for a in tv_lag:\n",
    "        for b in tv_decay:\n",
    "            for c in tv_power:\n",
    "                for d in digital_lag:\n",
    "                    for e in digital_decay:\n",
    "                        for f in digital_power:\n",
    "                            for g in other_lag:\n",
    "                                for h in other_decay:\n",
    "                                    for i in other_power:\n",
    "                                        train_model=fit_model1(data,a,b,c,d,e,f,g,h,i)\n",
    "                                        final.append(train_model)\n",
    "    result=best_model(final)\n",
    "    return result"
   ]
  },
  {
   "cell_type": "markdown",
   "metadata": {},
   "source": [
    "## 我的思路\n",
    "1．model　method里面call fit_model1把所有的模型组全部放到final这个list里面\n",
    "2. 每个变量参数组合算一个adjusted R2,把最小的保留"
   ]
  },
  {
   "cell_type": "code",
   "execution_count": null,
   "metadata": {},
   "outputs": [],
   "source": [
    "def best_model(final):\n",
    "    best= final[0]\n",
    "    current_score = best.rsquared_adj\n",
    "    for i in final:\n",
    "        score=i.rsquared_adj\n",
    "        if score > current_score:\n",
    "            best=i\n",
    "    return best"
   ]
  },
  {
   "cell_type": "code",
   "execution_count": 24,
   "metadata": {},
   "outputs": [
    {
     "ename": "AttributeError",
     "evalue": "'DataFrame' object has no attribute 'rsquared_adj'",
     "output_type": "error",
     "traceback": [
      "\u001b[1;31m---------------------------------------------------------------------------\u001b[0m",
      "\u001b[1;31mAttributeError\u001b[0m                            Traceback (most recent call last)",
      "\u001b[1;32m<ipython-input-24-86c3312197c0>\u001b[0m in \u001b[0;36m<module>\u001b[1;34m()\u001b[0m\n\u001b[1;32m----> 1\u001b[1;33m \u001b[0mx\u001b[0m \u001b[1;33m=\u001b[0m \u001b[0mmodel\u001b[0m\u001b[1;33m(\u001b[0m\u001b[0mdf\u001b[0m\u001b[1;33m)\u001b[0m\u001b[1;33m\u001b[0m\u001b[0m\n\u001b[0m",
      "\u001b[1;32m<ipython-input-23-f4307630cf3d>\u001b[0m in \u001b[0;36mmodel\u001b[1;34m(data)\u001b[0m\n\u001b[0;32m     27\u001b[0m                                         \u001b[0mtrain_model\u001b[0m\u001b[1;33m=\u001b[0m\u001b[0mfit_model1\u001b[0m\u001b[1;33m(\u001b[0m\u001b[0mdata\u001b[0m\u001b[1;33m,\u001b[0m\u001b[0ma\u001b[0m\u001b[1;33m,\u001b[0m\u001b[0mb\u001b[0m\u001b[1;33m,\u001b[0m\u001b[0mc\u001b[0m\u001b[1;33m,\u001b[0m\u001b[0md\u001b[0m\u001b[1;33m,\u001b[0m\u001b[0me\u001b[0m\u001b[1;33m,\u001b[0m\u001b[0mf\u001b[0m\u001b[1;33m,\u001b[0m\u001b[0mg\u001b[0m\u001b[1;33m,\u001b[0m\u001b[0mh\u001b[0m\u001b[1;33m,\u001b[0m\u001b[0mi\u001b[0m\u001b[1;33m)\u001b[0m\u001b[1;33m\u001b[0m\u001b[0m\n\u001b[0;32m     28\u001b[0m                                         \u001b[0mfinal\u001b[0m\u001b[1;33m.\u001b[0m\u001b[0mappend\u001b[0m\u001b[1;33m(\u001b[0m\u001b[0mtrain_model\u001b[0m\u001b[1;33m)\u001b[0m\u001b[1;33m\u001b[0m\u001b[0m\n\u001b[1;32m---> 29\u001b[1;33m     \u001b[0mresult\u001b[0m\u001b[1;33m=\u001b[0m\u001b[0mbest_model\u001b[0m\u001b[1;33m(\u001b[0m\u001b[0mfinal\u001b[0m\u001b[1;33m)\u001b[0m\u001b[1;33m\u001b[0m\u001b[0m\n\u001b[0m\u001b[0;32m     30\u001b[0m     \u001b[1;32mreturn\u001b[0m \u001b[0mresult\u001b[0m\u001b[1;33m\u001b[0m\u001b[0m\n\u001b[0;32m     31\u001b[0m \u001b[1;33m\u001b[0m\u001b[0m\n",
      "\u001b[1;32m<ipython-input-23-f4307630cf3d>\u001b[0m in \u001b[0;36mbest_model\u001b[1;34m(final)\u001b[0m\n\u001b[0;32m     32\u001b[0m \u001b[1;32mdef\u001b[0m \u001b[0mbest_model\u001b[0m\u001b[1;33m(\u001b[0m\u001b[0mfinal\u001b[0m\u001b[1;33m)\u001b[0m\u001b[1;33m:\u001b[0m\u001b[1;33m\u001b[0m\u001b[0m\n\u001b[0;32m     33\u001b[0m     \u001b[0mbest\u001b[0m\u001b[1;33m=\u001b[0m \u001b[0mfinal\u001b[0m\u001b[1;33m[\u001b[0m\u001b[1;36m0\u001b[0m\u001b[1;33m]\u001b[0m\u001b[1;33m\u001b[0m\u001b[0m\n\u001b[1;32m---> 34\u001b[1;33m     \u001b[0mcurrent_score\u001b[0m \u001b[1;33m=\u001b[0m \u001b[0mbest\u001b[0m\u001b[1;33m.\u001b[0m\u001b[0mrsquared_adj\u001b[0m\u001b[1;33m\u001b[0m\u001b[0m\n\u001b[0m\u001b[0;32m     35\u001b[0m     \u001b[1;32mfor\u001b[0m \u001b[0mi\u001b[0m \u001b[1;32min\u001b[0m \u001b[0mfinal\u001b[0m\u001b[1;33m:\u001b[0m\u001b[1;33m\u001b[0m\u001b[0m\n\u001b[0;32m     36\u001b[0m         \u001b[0mscore\u001b[0m\u001b[1;33m=\u001b[0m\u001b[0mi\u001b[0m\u001b[1;33m.\u001b[0m\u001b[0mrsquared_adj\u001b[0m\u001b[1;33m\u001b[0m\u001b[0m\n",
      "\u001b[1;32mC:\\ProgramData\\Anaconda3\\lib\\site-packages\\pandas\\core\\generic.py\u001b[0m in \u001b[0;36m__getattr__\u001b[1;34m(self, name)\u001b[0m\n\u001b[0;32m   4374\u001b[0m             \u001b[1;32mif\u001b[0m \u001b[0mself\u001b[0m\u001b[1;33m.\u001b[0m\u001b[0m_info_axis\u001b[0m\u001b[1;33m.\u001b[0m\u001b[0m_can_hold_identifiers_and_holds_name\u001b[0m\u001b[1;33m(\u001b[0m\u001b[0mname\u001b[0m\u001b[1;33m)\u001b[0m\u001b[1;33m:\u001b[0m\u001b[1;33m\u001b[0m\u001b[0m\n\u001b[0;32m   4375\u001b[0m                 \u001b[1;32mreturn\u001b[0m \u001b[0mself\u001b[0m\u001b[1;33m[\u001b[0m\u001b[0mname\u001b[0m\u001b[1;33m]\u001b[0m\u001b[1;33m\u001b[0m\u001b[0m\n\u001b[1;32m-> 4376\u001b[1;33m             \u001b[1;32mreturn\u001b[0m \u001b[0mobject\u001b[0m\u001b[1;33m.\u001b[0m\u001b[0m__getattribute__\u001b[0m\u001b[1;33m(\u001b[0m\u001b[0mself\u001b[0m\u001b[1;33m,\u001b[0m \u001b[0mname\u001b[0m\u001b[1;33m)\u001b[0m\u001b[1;33m\u001b[0m\u001b[0m\n\u001b[0m\u001b[0;32m   4377\u001b[0m \u001b[1;33m\u001b[0m\u001b[0m\n\u001b[0;32m   4378\u001b[0m     \u001b[1;32mdef\u001b[0m \u001b[0m__setattr__\u001b[0m\u001b[1;33m(\u001b[0m\u001b[0mself\u001b[0m\u001b[1;33m,\u001b[0m \u001b[0mname\u001b[0m\u001b[1;33m,\u001b[0m \u001b[0mvalue\u001b[0m\u001b[1;33m)\u001b[0m\u001b[1;33m:\u001b[0m\u001b[1;33m\u001b[0m\u001b[0m\n",
      "\u001b[1;31mAttributeError\u001b[0m: 'DataFrame' object has no attribute 'rsquared_adj'"
     ]
    }
   ],
   "source": [
    "x = model(df)"
   ]
  },
  {
   "cell_type": "markdown",
   "metadata": {},
   "source": [
    "##### Check MAPE"
   ]
  },
  {
   "cell_type": "code",
   "execution_count": 128,
   "metadata": {},
   "outputs": [],
   "source": [
    "from sklearn.utils.validation import check_array"
   ]
  },
  {
   "cell_type": "code",
   "execution_count": 130,
   "metadata": {},
   "outputs": [],
   "source": [
    "def mean_absolute_percentage_error(y_true, y_pred): \n",
    "    MAPE = np.mean(np.abs((y_true - y_pred) / y_true)) * 100\n",
    "    return MAPE"
   ]
  },
  {
   "cell_type": "code",
   "execution_count": 131,
   "metadata": {},
   "outputs": [],
   "source": [
    "MAPE = mean_absolute_percentage_error(true,predicted)"
   ]
  },
  {
   "cell_type": "code",
   "execution_count": 132,
   "metadata": {},
   "outputs": [
    {
     "data": {
      "text/plain": [
       "22.334310946533947"
      ]
     },
     "execution_count": 132,
     "metadata": {},
     "output_type": "execute_result"
    }
   ],
   "source": [
    "MAPE"
   ]
  }
 ],
 "metadata": {
  "kernelspec": {
   "display_name": "Python 3",
   "language": "python",
   "name": "python3"
  },
  "language_info": {
   "codemirror_mode": {
    "name": "ipython",
    "version": 3
   },
   "file_extension": ".py",
   "mimetype": "text/x-python",
   "name": "python",
   "nbconvert_exporter": "python",
   "pygments_lexer": "ipython3",
   "version": "3.7.0"
  }
 },
 "nbformat": 4,
 "nbformat_minor": 2
}
