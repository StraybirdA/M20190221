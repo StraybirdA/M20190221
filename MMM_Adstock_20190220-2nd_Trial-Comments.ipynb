{
 "cells": [
  {
   "cell_type": "code",
   "execution_count": 118,
   "metadata": {},
   "outputs": [],
   "source": [
    "import pandas as pd\n",
    "import numpy as np\n",
    "import matplotlib as plt\n",
    "import statsmodels.formula.api as sm"
   ]
  },
  {
   "cell_type": "markdown",
   "metadata": {},
   "source": [
    "## Import Data"
   ]
  },
  {
   "cell_type": "code",
   "execution_count": 119,
   "metadata": {},
   "outputs": [],
   "source": [
    "df = pd.read_csv('data/sample_df.csv')\n",
    "df.set_index('Month',inplace=True, drop=True)"
   ]
  },
  {
   "cell_type": "code",
   "execution_count": 120,
   "metadata": {},
   "outputs": [],
   "source": [
    "# df['TV'].index"
   ]
  },
  {
   "cell_type": "code",
   "execution_count": 121,
   "metadata": {},
   "outputs": [
    {
     "data": {
      "text/html": [
       "<div>\n",
       "<style scoped>\n",
       "    .dataframe tbody tr th:only-of-type {\n",
       "        vertical-align: middle;\n",
       "    }\n",
       "\n",
       "    .dataframe tbody tr th {\n",
       "        vertical-align: top;\n",
       "    }\n",
       "\n",
       "    .dataframe thead th {\n",
       "        text-align: right;\n",
       "    }\n",
       "</style>\n",
       "<table border=\"1\" class=\"dataframe\">\n",
       "  <thead>\n",
       "    <tr style=\"text-align: right;\">\n",
       "      <th></th>\n",
       "      <th>Volume</th>\n",
       "      <th>TV</th>\n",
       "      <th>Digital</th>\n",
       "      <th>Other</th>\n",
       "      <th>Coverage</th>\n",
       "      <th>RetailPrice</th>\n",
       "      <th>Temp</th>\n",
       "    </tr>\n",
       "    <tr>\n",
       "      <th>Month</th>\n",
       "      <th></th>\n",
       "      <th></th>\n",
       "      <th></th>\n",
       "      <th></th>\n",
       "      <th></th>\n",
       "      <th></th>\n",
       "      <th></th>\n",
       "    </tr>\n",
       "  </thead>\n",
       "  <tbody>\n",
       "    <tr>\n",
       "      <th>2016/01/01</th>\n",
       "      <td>4.679758e+06</td>\n",
       "      <td>24727</td>\n",
       "      <td>4867</td>\n",
       "      <td>0</td>\n",
       "      <td>0.221294</td>\n",
       "      <td>61.822051</td>\n",
       "      <td>6.222581</td>\n",
       "    </tr>\n",
       "    <tr>\n",
       "      <th>2016/02/01</th>\n",
       "      <td>5.612667e+06</td>\n",
       "      <td>102245</td>\n",
       "      <td>19383</td>\n",
       "      <td>11877</td>\n",
       "      <td>0.219405</td>\n",
       "      <td>62.132821</td>\n",
       "      <td>7.047126</td>\n",
       "    </tr>\n",
       "    <tr>\n",
       "      <th>2016/03/01</th>\n",
       "      <td>7.081166e+06</td>\n",
       "      <td>111393</td>\n",
       "      <td>16725</td>\n",
       "      <td>11987</td>\n",
       "      <td>0.219454</td>\n",
       "      <td>61.820769</td>\n",
       "      <td>10.459140</td>\n",
       "    </tr>\n",
       "    <tr>\n",
       "      <th>2016/04/01</th>\n",
       "      <td>8.366490e+06</td>\n",
       "      <td>64051</td>\n",
       "      <td>18815</td>\n",
       "      <td>0</td>\n",
       "      <td>0.217712</td>\n",
       "      <td>61.524615</td>\n",
       "      <td>15.961111</td>\n",
       "    </tr>\n",
       "    <tr>\n",
       "      <th>2016/05/01</th>\n",
       "      <td>1.239568e+07</td>\n",
       "      <td>134791</td>\n",
       "      <td>26876</td>\n",
       "      <td>0</td>\n",
       "      <td>0.213228</td>\n",
       "      <td>61.276410</td>\n",
       "      <td>20.646237</td>\n",
       "    </tr>\n",
       "  </tbody>\n",
       "</table>\n",
       "</div>"
      ],
      "text/plain": [
       "                  Volume      TV  Digital  Other  Coverage  RetailPrice  \\\n",
       "Month                                                                     \n",
       "2016/01/01  4.679758e+06   24727     4867      0  0.221294    61.822051   \n",
       "2016/02/01  5.612667e+06  102245    19383  11877  0.219405    62.132821   \n",
       "2016/03/01  7.081166e+06  111393    16725  11987  0.219454    61.820769   \n",
       "2016/04/01  8.366490e+06   64051    18815      0  0.217712    61.524615   \n",
       "2016/05/01  1.239568e+07  134791    26876      0  0.213228    61.276410   \n",
       "\n",
       "                 Temp  \n",
       "Month                  \n",
       "2016/01/01   6.222581  \n",
       "2016/02/01   7.047126  \n",
       "2016/03/01  10.459140  \n",
       "2016/04/01  15.961111  \n",
       "2016/05/01  20.646237  "
      ]
     },
     "execution_count": 121,
     "metadata": {},
     "output_type": "execute_result"
    }
   ],
   "source": [
    "df.head()"
   ]
  },
  {
   "cell_type": "markdown",
   "metadata": {},
   "source": [
    "## Descriptive Analysis"
   ]
  },
  {
   "cell_type": "markdown",
   "metadata": {},
   "source": [
    "## Adstock Transformation"
   ]
  },
  {
   "cell_type": "markdown",
   "metadata": {},
   "source": [
    "### Apply Adstock"
   ]
  },
  {
   "cell_type": "code",
   "execution_count": 122,
   "metadata": {},
   "outputs": [],
   "source": [
    "#lag and decay and power\n",
    "def to_adstock(media,lag,decay,alpha):\n",
    "    \n",
    "    n = len(media)\n",
    "    with_AS = np.zeros(n)\n",
    "    \n",
    "    for i in range(int(lag),n):\n",
    "        with_AS[i] = media[i-lag]**alpha + decay*with_AS[i-1]\n",
    "        \n",
    "    return (with_AS)"
   ]
  },
  {
   "cell_type": "markdown",
   "metadata": {},
   "source": [
    "## Modelling"
   ]
  },
  {
   "cell_type": "markdown",
   "metadata": {},
   "source": [
    "### Model fitting"
   ]
  },
  {
   "cell_type": "markdown",
   "metadata": {},
   "source": [
    "#####   Left: name the pd.Series with Column names following the rule\n",
    "1. TV_1L: TV_xL x as the number of Lags\n",
    "2. TV_AS60: AS means astock, this means taking decay of 60% from previous one\n",
    "3. TV_Alpha90: means taking power curve transformation and, x**aplha, alpha = 0.9"
   ]
  },
  {
   "cell_type": "code",
   "execution_count": 123,
   "metadata": {},
   "outputs": [],
   "source": [
    "def fit_model1(data,a,b,c,d,e,f,g,h,i):\n",
    "    \n",
    "    tv_ads=to_adstock(data['TV'],a,b,c)\n",
    "    digital_ads=to_adstock(data['Digital'],d,e,f)\n",
    "    other_ads=to_adstock(data['Other'],g,h,i)\n",
    "    sales=data['Volume']\n",
    "    temp=data['Temp']\n",
    "    coverage=data['Coverage']\n",
    "    retailprice=data['RetailPrice']\n",
    "    x_ad=pd.concat([data['TV'],pd.Series(tv_ads,index=data['TV'].index),data['Digital'],pd.Series(digital_ads,index=data['TV'].index),data['Other'],pd.Series(other_ads,index=data['TV'].index),temp,coverage,retailprice,pd.Series(sales,index=data['TV'].index)],axis =1, join_axes=[data['TV'].index])\n",
    "\n",
    "    # modelling\n",
    "    \n",
    "    models=sm.ols(formula='sales ~ tv_ads+digital_ads+other_ads+temp+coverage+retailprice',data=x_ad).fit()\n",
    "    \n",
    "    return models"
   ]
  },
  {
   "cell_type": "code",
   "execution_count": 124,
   "metadata": {},
   "outputs": [],
   "source": [
    "x = fit_model1(df,2,0.6,0.9,2,0.6,1,2,0.6,1)"
   ]
  },
  {
   "cell_type": "code",
   "execution_count": 125,
   "metadata": {},
   "outputs": [
    {
     "data": {
      "text/html": [
       "<table class=\"simpletable\">\n",
       "<caption>OLS Regression Results</caption>\n",
       "<tr>\n",
       "  <th>Dep. Variable:</th>          <td>sales</td>      <th>  R-squared:         </th> <td>   0.828</td>\n",
       "</tr>\n",
       "<tr>\n",
       "  <th>Model:</th>                   <td>OLS</td>       <th>  Adj. R-squared:    </th> <td>   0.781</td>\n",
       "</tr>\n",
       "<tr>\n",
       "  <th>Method:</th>             <td>Least Squares</td>  <th>  F-statistic:       </th> <td>   17.64</td>\n",
       "</tr>\n",
       "<tr>\n",
       "  <th>Date:</th>             <td>Wed, 20 Feb 2019</td> <th>  Prob (F-statistic):</th> <td>2.17e-07</td>\n",
       "</tr>\n",
       "<tr>\n",
       "  <th>Time:</th>                 <td>17:00:43</td>     <th>  Log-Likelihood:    </th> <td> -464.91</td>\n",
       "</tr>\n",
       "<tr>\n",
       "  <th>No. Observations:</th>      <td>    29</td>      <th>  AIC:               </th> <td>   943.8</td>\n",
       "</tr>\n",
       "<tr>\n",
       "  <th>Df Residuals:</th>          <td>    22</td>      <th>  BIC:               </th> <td>   953.4</td>\n",
       "</tr>\n",
       "<tr>\n",
       "  <th>Df Model:</th>              <td>     6</td>      <th>                     </th>     <td> </td>   \n",
       "</tr>\n",
       "<tr>\n",
       "  <th>Covariance Type:</th>      <td>nonrobust</td>    <th>                     </th>     <td> </td>   \n",
       "</tr>\n",
       "</table>\n",
       "<table class=\"simpletable\">\n",
       "<tr>\n",
       "       <td></td>          <th>coef</th>     <th>std err</th>      <th>t</th>      <th>P>|t|</th>  <th>[0.025</th>    <th>0.975]</th>  \n",
       "</tr>\n",
       "<tr>\n",
       "  <th>Intercept</th>   <td>-1.283e+07</td> <td>  8.7e+06</td> <td>   -1.475</td> <td> 0.154</td> <td>-3.09e+07</td> <td> 5.21e+06</td>\n",
       "</tr>\n",
       "<tr>\n",
       "  <th>tv_ads</th>      <td>  -29.9279</td> <td>   19.130</td> <td>   -1.564</td> <td> 0.132</td> <td>  -69.601</td> <td>    9.745</td>\n",
       "</tr>\n",
       "<tr>\n",
       "  <th>digital_ads</th> <td>   10.7572</td> <td>   31.412</td> <td>    0.342</td> <td> 0.735</td> <td>  -54.386</td> <td>   75.901</td>\n",
       "</tr>\n",
       "<tr>\n",
       "  <th>other_ads</th>   <td>   93.6585</td> <td>   66.616</td> <td>    1.406</td> <td> 0.174</td> <td>  -44.495</td> <td>  231.812</td>\n",
       "</tr>\n",
       "<tr>\n",
       "  <th>temp</th>        <td> 5.084e+05</td> <td> 1.11e+05</td> <td>    4.566</td> <td> 0.000</td> <td> 2.77e+05</td> <td> 7.39e+05</td>\n",
       "</tr>\n",
       "<tr>\n",
       "  <th>coverage</th>    <td> 7.207e+07</td> <td> 4.66e+07</td> <td>    1.547</td> <td> 0.136</td> <td>-2.46e+07</td> <td> 1.69e+08</td>\n",
       "</tr>\n",
       "<tr>\n",
       "  <th>retailprice</th> <td>-3.494e+04</td> <td> 4.02e+04</td> <td>   -0.869</td> <td> 0.394</td> <td>-1.18e+05</td> <td> 4.84e+04</td>\n",
       "</tr>\n",
       "</table>\n",
       "<table class=\"simpletable\">\n",
       "<tr>\n",
       "  <th>Omnibus:</th>       <td> 0.745</td> <th>  Durbin-Watson:     </th> <td>   1.448</td>\n",
       "</tr>\n",
       "<tr>\n",
       "  <th>Prob(Omnibus):</th> <td> 0.689</td> <th>  Jarque-Bera (JB):  </th> <td>   0.577</td>\n",
       "</tr>\n",
       "<tr>\n",
       "  <th>Skew:</th>          <td> 0.328</td> <th>  Prob(JB):          </th> <td>   0.750</td>\n",
       "</tr>\n",
       "<tr>\n",
       "  <th>Kurtosis:</th>      <td> 2.786</td> <th>  Cond. No.          </th> <td>1.05e+07</td>\n",
       "</tr>\n",
       "</table><br/><br/>Warnings:<br/>[1] Standard Errors assume that the covariance matrix of the errors is correctly specified.<br/>[2] The condition number is large, 1.05e+07. This might indicate that there are<br/>strong multicollinearity or other numerical problems."
      ],
      "text/plain": [
       "<class 'statsmodels.iolib.summary.Summary'>\n",
       "\"\"\"\n",
       "                            OLS Regression Results                            \n",
       "==============================================================================\n",
       "Dep. Variable:                  sales   R-squared:                       0.828\n",
       "Model:                            OLS   Adj. R-squared:                  0.781\n",
       "Method:                 Least Squares   F-statistic:                     17.64\n",
       "Date:                Wed, 20 Feb 2019   Prob (F-statistic):           2.17e-07\n",
       "Time:                        17:00:43   Log-Likelihood:                -464.91\n",
       "No. Observations:                  29   AIC:                             943.8\n",
       "Df Residuals:                      22   BIC:                             953.4\n",
       "Df Model:                           6                                         \n",
       "Covariance Type:            nonrobust                                         \n",
       "===============================================================================\n",
       "                  coef    std err          t      P>|t|      [0.025      0.975]\n",
       "-------------------------------------------------------------------------------\n",
       "Intercept   -1.283e+07    8.7e+06     -1.475      0.154   -3.09e+07    5.21e+06\n",
       "tv_ads        -29.9279     19.130     -1.564      0.132     -69.601       9.745\n",
       "digital_ads    10.7572     31.412      0.342      0.735     -54.386      75.901\n",
       "other_ads      93.6585     66.616      1.406      0.174     -44.495     231.812\n",
       "temp         5.084e+05   1.11e+05      4.566      0.000    2.77e+05    7.39e+05\n",
       "coverage     7.207e+07   4.66e+07      1.547      0.136   -2.46e+07    1.69e+08\n",
       "retailprice -3.494e+04   4.02e+04     -0.869      0.394   -1.18e+05    4.84e+04\n",
       "==============================================================================\n",
       "Omnibus:                        0.745   Durbin-Watson:                   1.448\n",
       "Prob(Omnibus):                  0.689   Jarque-Bera (JB):                0.577\n",
       "Skew:                           0.328   Prob(JB):                        0.750\n",
       "Kurtosis:                       2.786   Cond. No.                     1.05e+07\n",
       "==============================================================================\n",
       "\n",
       "Warnings:\n",
       "[1] Standard Errors assume that the covariance matrix of the errors is correctly specified.\n",
       "[2] The condition number is large, 1.05e+07. This might indicate that there are\n",
       "strong multicollinearity or other numerical problems.\n",
       "\"\"\""
      ]
     },
     "execution_count": 125,
     "metadata": {},
     "output_type": "execute_result"
    }
   ],
   "source": [
    "x.summary()"
   ]
  },
  {
   "cell_type": "code",
   "execution_count": 126,
   "metadata": {},
   "outputs": [],
   "source": [
    "predicted = x.predict()"
   ]
  },
  {
   "cell_type": "code",
   "execution_count": 127,
   "metadata": {},
   "outputs": [],
   "source": [
    "true= df['Volume'].values"
   ]
  },
  {
   "cell_type": "markdown",
   "metadata": {},
   "source": [
    "##### Check MAPE"
   ]
  },
  {
   "cell_type": "code",
   "execution_count": 128,
   "metadata": {},
   "outputs": [],
   "source": [
    "from sklearn.utils.validation import check_array"
   ]
  },
  {
   "cell_type": "code",
   "execution_count": 130,
   "metadata": {},
   "outputs": [],
   "source": [
    "def mean_absolute_percentage_error(y_true, y_pred): \n",
    "    MAPE = np.mean(np.abs((y_true - y_pred) / y_true)) * 100\n",
    "    return MAPE"
   ]
  },
  {
   "cell_type": "code",
   "execution_count": 131,
   "metadata": {},
   "outputs": [],
   "source": [
    "MAPE = mean_absolute_percentage_error(true,predicted)"
   ]
  },
  {
   "cell_type": "code",
   "execution_count": 132,
   "metadata": {},
   "outputs": [
    {
     "data": {
      "text/plain": [
       "22.334310946533947"
      ]
     },
     "execution_count": 132,
     "metadata": {},
     "output_type": "execute_result"
    }
   ],
   "source": [
    "MAPE"
   ]
  },
  {
   "cell_type": "markdown",
   "metadata": {},
   "source": [
    "1. Too Large, Need to check for seasonality and multicollearity\n",
    "2. VIF ?"
   ]
  },
  {
   "cell_type": "code",
   "execution_count": null,
   "metadata": {},
   "outputs": [],
   "source": [
    "def model(data):\n",
    "    # Run OLS regression, print summary and return results\n",
    "    \n",
    "    lag_in =1\n",
    "    decay_in= -0.1\n",
    "    power_in = - 0.1\n",
    "    \n",
    "    tv_lag = list(np.arange(1,4, lag_in))\n",
    "    tv_decay = list(np.arange(0.9, 0.8, decay_in))\n",
    "    tv_power = list (np.arange(0.9, 0.8, power_in))\n",
    "    digital_lag = list(np.arange(1,4, lag_in))\n",
    "    digital_decay = list(np.arange(0.9, 0.8, decay_in))\n",
    "    digital_power = list (np.arange(0.9, 0.8,power_in))\n",
    "    other_lag = list(np.arange(1,4, lag_in))\n",
    "    other_decay = list(np.arange(0.9, 0.8, decay_in))\n",
    "    other_power = list (np.arange(0.9, 0.8, power_in))\n",
    "\n",
    "\n",
    "    # best=[]\n",
    "    result=[]\n",
    "\n",
    "    for a in tv_lag:\n",
    "        for b in tv_decay:\n",
    "            for c in tv_power:\n",
    "                for d in digital_lag:\n",
    "                    for e in digital_decay:\n",
    "                        for f in digital_power:\n",
    "                            for g in tv_lag:\n",
    "                                for h in tv_decay:\n",
    "                                    for i in tv_power:\n",
    "                                        currentbest=[]\n",
    "                                        final=[]\n",
    "                                        final1=[]\n",
    "  \n",
    "                                        train_model=fit_model1(data,a,b,c,d,e,f,g,h,i)\n",
    "                                        final.append(train_model)\n",
    "        \n",
    "                                        # 想在这个地方加入下面那个forward selection 达到的目的,在下一个cell里面说明\n",
    "                                        for i in final:\n",
    "                                            \n",
    "                            \n",
    "        \n",
    "    return result"
   ]
  },
  {
   "cell_type": "markdown",
   "metadata": {},
   "source": [
    "1. 接上面 要构筑一个线性模型 'sales ~ tv_ads+digital_ads+other_ads+(temp+coverage+retailprice)'\n",
    "2. tv,digital,other 必须加入，并且通过调用上面的循环，给他们赋予不同的参数(lag,decay,power).\n",
    "3. 剩下的三个变量 temp retailprice coverage， 想要选择最优的加入。下面有网上forward selection的method\n",
    "4. 比如果三个必须加入的变量每个lag数3 decay 2 power 2，再加上剩下三个变量的各种组合 应该是一共构建 (3*2*2)^3*6 = 34992个模型选最优？"
   ]
  },
  {
   "cell_type": "markdown",
   "metadata": {},
   "source": [
    "### Ref."
   ]
  },
  {
   "cell_type": "markdown",
   "metadata": {},
   "source": [
    "#### 1. Forward selection (for vars)"
   ]
  },
  {
   "cell_type": "markdown",
   "metadata": {},
   "source": [
    "参考 https://planspace.org/20150423-forward_selection_with_statsmodels/"
   ]
  },
  {
   "cell_type": "code",
   "execution_count": null,
   "metadata": {},
   "outputs": [],
   "source": [
    "import statsmodels.formula.api as smf\n",
    "\n",
    "def forward_selected(data, response):\n",
    "    \"\"\"Linear model designed by forward selection.\n",
    "\n",
    "    Parameters:\n",
    "    -----------\n",
    "    data : pandas DataFrame with all possible predictors and response\n",
    "\n",
    "    response: string, name of response column in data\n",
    "\n",
    "    Returns:\n",
    "    --------\n",
    "    model: an \"optimal\" fitted statsmodels linear model\n",
    "           with an intercept\n",
    "           selected by forward selection\n",
    "           evaluated by adjusted R-squared\n",
    "    \"\"\"\n",
    "    remaining = set(data.columns)\n",
    "    remaining.remove(response)\n",
    "    selected = []\n",
    "    current_score, best_new_score = 0.0, 0.0\n",
    "    while remaining and current_score == best_new_score:\n",
    "        scores_with_candidates = []\n",
    "        for candidate in remaining:\n",
    "            formula = \"{} ~ {} + 1\".format(response,\n",
    "                                           ' + '.join(selected + [candidate]))\n",
    "            score = smf.ols(formula, data).fit().rsquared_adj\n",
    "            scores_with_candidates.append((score, candidate))\n",
    "        scores_with_candidates.sort()\n",
    "        best_new_score, best_candidate = scores_with_candidates.pop()\n",
    "        if current_score < best_new_score:\n",
    "            remaining.remove(best_candidate)\n",
    "            selected.append(best_candidate)\n",
    "            current_score = best_new_score\n",
    "    formula = \"{} ~ {} + 1\".format(response,\n",
    "                                   ' + '.join(selected))\n",
    "    model = smf.ols(formula, data).fit()\n",
    "    return model"
   ]
  }
 ],
 "metadata": {
  "kernelspec": {
   "display_name": "Python 3",
   "language": "python",
   "name": "python3"
  },
  "language_info": {
   "codemirror_mode": {
    "name": "ipython",
    "version": 3
   },
   "file_extension": ".py",
   "mimetype": "text/x-python",
   "name": "python",
   "nbconvert_exporter": "python",
   "pygments_lexer": "ipython3",
   "version": "3.7.0"
  }
 },
 "nbformat": 4,
 "nbformat_minor": 2
}
